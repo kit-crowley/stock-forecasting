# Import packages
import sys
sys.path.append('../src')  # so we can import data_loader from src

import data_loader
import matplotlib.pyplot as plt
import pandas as pd

# Fetch stock data
ticker = 'AAPL'
df = data_loader.fetch_stock_data(ticker)

# Show info & head
print(f"Data for {ticker}")
print(df.info())
print(df.head())

# Plot closing price over time
plt.figure(figsize=(12,6))
plt.plot(df.index, df['Close'], label='Close Price')
plt.title(f"{ticker} Close Price History")
plt.xlabel('Date')
plt.ylabel('Price ($)')
plt.legend()
plt.show()

# Plot volume
plt.figure(figsize=(12,6))
plt.bar(df.index, df['Volume'], label='Volume', color='orange')
plt.title(f"{ticker} Trading Volume")
plt.xlabel('Date')
plt.ylabel('Volume')
plt.show()

# Calculate and plot moving averages
df['MA50'] = df['Close'].rolling(window=50).mean()
df['MA200'] = df['Close'].rolling(window=200).mean()

plt.figure(figsize=(12,6))
plt.plot(df.index, df['Close'], label='Close Price')
plt.plot(df.index, df['MA50'], label='50-day MA')
plt.plot(df.index, df['MA200'], label='200-day MA')
plt.title(f"{ticker} Close Price with Moving Averages")
plt.xlabel('Date')
plt.ylabel('Price ($)')
plt.legend()
plt.show()
